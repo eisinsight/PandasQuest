{
 "cells": [
  {
   "cell_type": "markdown",
   "id": "a944589a-121b-4d9c-8669-1e6a8860f7d0",
   "metadata": {},
   "source": [
    "# PandasQuest"
   ]
  },
  {
   "cell_type": "markdown",
   "id": "5dcaa428-2a59-4f92-a562-43187deeed41",
   "metadata": {},
   "source": [
    "## 1. Data Creation and Inspection"
   ]
  },
  {
   "cell_type": "code",
   "execution_count": 58,
   "id": "d52ae8e6-3611-4bd8-9c4b-319f9f1d355b",
   "metadata": {},
   "outputs": [],
   "source": [
    "#Imagine you have a Python dictionary like this:\n",
    "#data_dict = {\n",
    "    #'First Name': ['Alice', 'Bob', 'Charlie', 'David'],\n",
    "    #'Last Name': ['Smith', 'Jones', 'Brown', 'Wilson'],\n",
    "    #'Salary': [60000, 85000, 70000, 95000],\n",
    "    #'Department': ['HR', 'Sales', 'IT', 'Sales'],\n",
    "    #'Bonus%': [5, 10, 5, 15]}\n",
    "# 1) Creation: Write the code to convert data_dict into a pandas DataFrame and store it in a variable named df.\n",
    "# 2) Inspection: Write the code to display the first 3 rows of df and the code to display the data types of all its columns."
   ]
  },
  {
   "cell_type": "code",
   "execution_count": 59,
   "id": "d50653f1-4db9-489f-8e49-e6418debf61c",
   "metadata": {},
   "outputs": [
    {
     "name": "stdout",
     "output_type": "stream",
     "text": [
      "  First Name Last Name  Salary Department  Bonus%\n",
      "0      Alice     Smith   60000         HR       5\n",
      "1        Bob     Jones   85000      Sales      10\n",
      "2    Charlie     Brown   70000         IT       5\n",
      "<class 'pandas.core.frame.DataFrame'>\n",
      "RangeIndex: 4 entries, 0 to 3\n",
      "Data columns (total 5 columns):\n",
      " #   Column      Non-Null Count  Dtype \n",
      "---  ------      --------------  ----- \n",
      " 0   First Name  4 non-null      object\n",
      " 1   Last Name   4 non-null      object\n",
      " 2   Salary      4 non-null      int64 \n",
      " 3   Department  4 non-null      object\n",
      " 4   Bonus%      4 non-null      int64 \n",
      "dtypes: int64(2), object(3)\n",
      "memory usage: 292.0+ bytes\n",
      "None\n"
     ]
    }
   ],
   "source": [
    "import numpy as np\n",
    "import pandas as pd\n",
    "data_dict = {\n",
    "    'First Name': ['Alice', 'Bob', 'Charlie', 'David'],\n",
    "    'Last Name': ['Smith', 'Jones', 'Brown', 'Wilson'],\n",
    "    'Salary': [60000, 85000, 70000, 95000],\n",
    "    'Department': ['HR', 'Sales', 'IT', 'Sales'],\n",
    "    'Bonus%': [5, 10, 5, 15]\n",
    "}\n",
    "df=pd.DataFrame(data_dict)\n",
    "print(df.head(3))\n",
    "print(df.info())"
   ]
  },
  {
   "cell_type": "markdown",
   "id": "a08e3f2b-806b-43df-af9f-b7f278fdb8cb",
   "metadata": {},
   "source": [
    "## 2. Column-Based Operations"
   ]
  },
  {
   "cell_type": "code",
   "execution_count": 60,
   "id": "e3bd29c4-fe6e-4416-ac98-4f4dce10ef57",
   "metadata": {},
   "outputs": [],
   "source": [
    "#Using the df created above:\n",
    "# 1) Mean Calculation: Calculate and print the mean of the Salary column.\n",
    "# 2) New Column (Joining): Create a new column named FullName by joining the First Name and Last Name columns with a space in between.\n",
    "# 3) New Column (Calculation): Create a new column named BonusAmount by calculating the actual bonus amount. The formula is Salary×(Bonus%/100)."
   ]
  },
  {
   "cell_type": "code",
   "execution_count": 61,
   "id": "48e093db-9538-466b-bb99-514eeeb36f52",
   "metadata": {},
   "outputs": [
    {
     "name": "stdout",
     "output_type": "stream",
     "text": [
      "77500.0\n",
      "  First Name Last Name  Salary Department  Bonus%       FullName\n",
      "0      Alice     Smith   60000         HR       5    Alice Smith\n",
      "1        Bob     Jones   85000      Sales      10      Bob Jones\n",
      "2    Charlie     Brown   70000         IT       5  Charlie Brown\n",
      "3      David    Wilson   95000      Sales      15   David Wilson\n",
      "  First Name Last Name  Salary Department  Bonus%       FullName  BonusAmount\n",
      "0      Alice     Smith   60000         HR       5    Alice Smith       3000.0\n",
      "1        Bob     Jones   85000      Sales      10      Bob Jones       8500.0\n",
      "2    Charlie     Brown   70000         IT       5  Charlie Brown       3500.0\n",
      "3      David    Wilson   95000      Sales      15   David Wilson      14250.0\n"
     ]
    }
   ],
   "source": [
    "print(df[\"Salary\"].mean())\n",
    "df[\"FullName\"]=df[\"First Name\"]+\" \"+df[\"Last Name\"]\n",
    "print(df)\n",
    "df[\"BonusAmount\"]=df[\"Salary\"]*df[\"Bonus%\"]/100\n",
    "print(df)"
   ]
  },
  {
   "cell_type": "markdown",
   "id": "715ca177-f0a6-4960-8577-f0b4d9cc8779",
   "metadata": {},
   "source": [
    "## 3. Data Summarization"
   ]
  },
  {
   "cell_type": "code",
   "execution_count": 62,
   "id": "a72b15fe-4ab8-4273-ba7a-403222712bd9",
   "metadata": {},
   "outputs": [],
   "source": [
    "# 1) Data Type Conversion: Write the code to find out the statistical summary (like count, mean, min, max, etc.) of all the numeric columns in df."
   ]
  },
  {
   "cell_type": "code",
   "execution_count": 63,
   "id": "b93a42cb-f15d-4014-9be5-6cb897214569",
   "metadata": {},
   "outputs": [
    {
     "name": "stdout",
     "output_type": "stream",
     "text": [
      "             Salary     Bonus%   BonusAmount\n",
      "count      4.000000   4.000000      4.000000\n",
      "mean   77500.000000   8.750000   7312.500000\n",
      "std    15545.631755   4.787136   5249.503945\n",
      "min    60000.000000   5.000000   3000.000000\n",
      "25%    67500.000000   5.000000   3375.000000\n",
      "50%    77500.000000   7.500000   6000.000000\n",
      "75%    87500.000000  11.250000   9937.500000\n",
      "max    95000.000000  15.000000  14250.000000\n"
     ]
    }
   ],
   "source": [
    "print(df.describe())"
   ]
  },
  {
   "cell_type": "markdown",
   "id": "11f5647d-89d5-4e90-8d6e-5cb1b8653435",
   "metadata": {},
   "source": [
    "## 4. Handling Missing and Duplicate Data"
   ]
  },
  {
   "cell_type": "code",
   "execution_count": 64,
   "id": "557545c5-30d6-4c55-a363-a431c304c056",
   "metadata": {},
   "outputs": [],
   "source": [
    "#Assume you have a DataFrame named data with some missing and duplicate values:\n",
    "# 1) Check for Nulls: Write the code to count the total number of null values in each column of data.\n",
    "# 2) Fill Nulls: Fill any null values in the Salary column of data using the previous non-null value (Forward Fill).\n",
    "# 3) Identify Duplicates: Write the code to find or mark (with a boolean True) fully duplicated rows in data.\n",
    "# 4) Remove Duplicates: Write the code to remove all fully duplicated rows from data.\n",
    "#Note: This dataset contains no duplicate rows or null values. However, the following code can be used to detect and remove duplicates and nulls\n",
    "#if they exist."
   ]
  },
  {
   "cell_type": "code",
   "execution_count": 65,
   "id": "42d5c91e-8615-4b56-852d-bd715ac16a98",
   "metadata": {},
   "outputs": [
    {
     "name": "stdout",
     "output_type": "stream",
     "text": [
      "First Name     0\n",
      "Last Name      0\n",
      "Salary         0\n",
      "Department     0\n",
      "Bonus%         0\n",
      "FullName       0\n",
      "BonusAmount    0\n",
      "dtype: int64\n",
      "0    60000\n",
      "1    85000\n",
      "2    70000\n",
      "3    95000\n",
      "Name: Salary, dtype: int64\n",
      "0    False\n",
      "1    False\n",
      "2    False\n",
      "3    False\n",
      "dtype: bool\n",
      "  First Name Last Name  Salary Department  Bonus%       FullName  BonusAmount\n",
      "0      Alice     Smith   60000         HR       5    Alice Smith       3000.0\n",
      "1        Bob     Jones   85000      Sales      10      Bob Jones       8500.0\n",
      "2    Charlie     Brown   70000         IT       5  Charlie Brown       3500.0\n",
      "3      David    Wilson   95000      Sales      15   David Wilson      14250.0\n"
     ]
    },
    {
     "name": "stderr",
     "output_type": "stream",
     "text": [
      "C:\\Users\\eisex\\AppData\\Local\\Temp\\ipykernel_5620\\151951988.py:2: FutureWarning: Series.fillna with 'method' is deprecated and will raise in a future version. Use obj.ffill() or obj.bfill() instead.\n",
      "  print(df[\"Salary\"].fillna(method=\"ffill\"))\n"
     ]
    }
   ],
   "source": [
    "print(df.isnull().sum())\n",
    "print(df[\"Salary\"].fillna(method=\"ffill\"))\n",
    "#or\n",
    "#print(df[\"Salary\"].ffill()) for future after depreciation\n",
    "print(df.duplicated())\n",
    "print(df.drop_duplicates())"
   ]
  },
  {
   "cell_type": "markdown",
   "id": "84c196cb-ea65-4cef-be7e-677ce6399c61",
   "metadata": {},
   "source": [
    "## 5. Aggregation and Reshaping"
   ]
  },
  {
   "cell_type": "code",
   "execution_count": 66,
   "id": "de5cf706-6edb-4831-a8a4-f5589156942e",
   "metadata": {},
   "outputs": [],
   "source": [
    "# 1) Grouping (groupby): Calculate and print the average Salary for each Department.\n",
    "# 2) Pivoting: Reshape df so that the Department becomes the new index (rows), Last Name becomes the columns, and the Salary is the value.\n",
    "#Print the resulting pivoted table."
   ]
  },
  {
   "cell_type": "code",
   "execution_count": 67,
   "id": "2242e906-aebc-4a06-b2a8-ab791aa7f9a0",
   "metadata": {},
   "outputs": [
    {
     "name": "stdout",
     "output_type": "stream",
     "text": [
      "             Salary\n",
      "Department         \n",
      "HR          60000.0\n",
      "IT          70000.0\n",
      "Sales       90000.0\n",
      "Last Name     Brown    Jones    Smith   Wilson\n",
      "Department                                    \n",
      "HR              NaN      NaN  60000.0      NaN\n",
      "IT          70000.0      NaN      NaN      NaN\n",
      "Sales           NaN  85000.0      NaN  95000.0\n"
     ]
    }
   ],
   "source": [
    "print(df.groupby([\"Department\"]).agg({\"Salary\":\"mean\"}))\n",
    "print(df.pivot(index=\"Department\",columns=\"Last Name\",values=\"Salary\"))"
   ]
  },
  {
   "cell_type": "markdown",
   "id": "9f3370e0-cff9-416f-a1b3-77e9487c06e9",
   "metadata": {},
   "source": [
    "## 6. Combining DataFrames"
   ]
  },
  {
   "cell_type": "code",
   "execution_count": 68,
   "id": "eeb43c61-7355-46ce-8c0d-6adca89d6241",
   "metadata": {},
   "outputs": [],
   "source": [
    "#Assume you have a second DataFrame:\n",
    "#dept_df = pd.DataFrame({\n",
    "    #'Department': ['HR', 'Sales', 'IT', 'Marketing'],\n",
    "    #'Location': ['NYC', 'LA', 'SF', 'Chicago']})\n",
    "# 1) Merge (Joining): Merge the original df with dept_df based on the common column Department. \n",
    "#Use a right join to include all departments from dept_df, even if they don't have an employee in df. \n",
    "#Print the result."
   ]
  },
  {
   "cell_type": "code",
   "execution_count": 69,
   "id": "b9d166c6-abfd-4f5e-b5ca-99f547b505aa",
   "metadata": {},
   "outputs": [
    {
     "name": "stdout",
     "output_type": "stream",
     "text": [
      "  First Name Last Name   Salary Department  Bonus%       FullName  \\\n",
      "0      Alice     Smith  60000.0         HR     5.0    Alice Smith   \n",
      "1        Bob     Jones  85000.0      Sales    10.0      Bob Jones   \n",
      "2      David    Wilson  95000.0      Sales    15.0   David Wilson   \n",
      "3    Charlie     Brown  70000.0         IT     5.0  Charlie Brown   \n",
      "4        NaN       NaN      NaN  Marketing     NaN            NaN   \n",
      "\n",
      "   BonusAmount Location  \n",
      "0       3000.0      NYC  \n",
      "1       8500.0       LA  \n",
      "2      14250.0       LA  \n",
      "3       3500.0       SF  \n",
      "4          NaN  Chicago  \n"
     ]
    }
   ],
   "source": [
    "dept_df = pd.DataFrame({\n",
    "    'Department': ['HR', 'Sales', 'IT', 'Marketing'],\n",
    "    'Location': ['NYC', 'LA', 'SF', 'Chicago']\n",
    "})\n",
    "print(pd.merge(df,dept_df,on=\"Department\",how=\"right\"))"
   ]
  },
  {
   "cell_type": "code",
   "execution_count": null,
   "id": "092fb5f1-77cb-497f-9c4f-90869e8a72d0",
   "metadata": {},
   "outputs": [],
   "source": []
  }
 ],
 "metadata": {
  "kernelspec": {
   "display_name": "Python 3 (ipykernel)",
   "language": "python",
   "name": "python3"
  },
  "language_info": {
   "codemirror_mode": {
    "name": "ipython",
    "version": 3
   },
   "file_extension": ".py",
   "mimetype": "text/x-python",
   "name": "python",
   "nbconvert_exporter": "python",
   "pygments_lexer": "ipython3",
   "version": "3.13.6"
  }
 },
 "nbformat": 4,
 "nbformat_minor": 5
}
